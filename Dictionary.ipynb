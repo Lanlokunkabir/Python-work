{
 "cells": [
  {
   "cell_type": "code",
   "execution_count": 9,
   "metadata": {},
   "outputs": [],
   "source": [
    "clientdata = {\n",
    "    \"Firstname\": \"Abiola\",\n",
    "    \"Lastname\": \"Lukman\",\n",
    "    \"Age\": \"45\",\n",
    "    \"SO\": \"Oyo\",\n",
    "    \"Country\": \"Kenya\",\n",
    "    \"DOB\": \"June 1st 2000\",\n",
    "\n",
    "\n",
    "}"
   ]
  },
  {
   "cell_type": "code",
   "execution_count": null,
   "metadata": {},
   "outputs": [],
   "source": [
    "## To print Abiola Lukman is an indegene of Oyo State. He is 45 years old, born on June 1st 2000\n",
    "\n"
   ]
  },
  {
   "cell_type": "code",
   "execution_count": 11,
   "metadata": {},
   "outputs": [
    {
     "ename": "KeyError",
     "evalue": "'country'",
     "output_type": "error",
     "traceback": [
      "\u001b[1;31m---------------------------------------------------------------------------\u001b[0m",
      "\u001b[1;31mKeyError\u001b[0m                                  Traceback (most recent call last)",
      "Cell \u001b[1;32mIn[11], line 1\u001b[0m\n\u001b[1;32m----> 1\u001b[0m \u001b[38;5;28mprint\u001b[39m(clientdata[\u001b[38;5;124m\"\u001b[39m\u001b[38;5;124mLastname\u001b[39m\u001b[38;5;124m\"\u001b[39m] \u001b[38;5;241m+\u001b[39m \u001b[38;5;124m\"\u001b[39m\u001b[38;5;124m\"\u001b[39m\u001b[38;5;241m+\u001b[39m clientdata[\u001b[38;5;124m'\u001b[39m\u001b[38;5;124mFirstname\u001b[39m\u001b[38;5;124m'\u001b[39m], \u001b[38;5;124m\"\u001b[39m\u001b[38;5;124mis an indegene of\u001b[39m\u001b[38;5;124m\"\u001b[39m, clientdata[\u001b[38;5;124m\"\u001b[39m\u001b[38;5;124mSO\u001b[39m\u001b[38;5;124m\"\u001b[39m], \u001b[38;5;124m\"\u001b[39m\u001b[38;5;124mstate\u001b[39m\u001b[38;5;124m\"\u001b[39m, clientdata[\u001b[38;5;124m'\u001b[39m\u001b[38;5;124mcountry\u001b[39m\u001b[38;5;124m'\u001b[39m],\u001b[38;5;124m'\u001b[39m\u001b[38;5;124mHe is\u001b[39m\u001b[38;5;124m'\u001b[39m, clientdata[age], \u001b[38;5;124m'\u001b[39m\u001b[38;5;124myears old, bon on\u001b[39m\u001b[38;5;124m'\u001b[39m, clientdata[\u001b[38;5;124m'\u001b[39m\u001b[38;5;124mDOB\u001b[39m\u001b[38;5;124m'\u001b[39m])\n",
      "\u001b[1;31mKeyError\u001b[0m: 'country'"
     ]
    }
   ],
   "source": [
    "\n",
    "\n",
    "print(clientdata[\"Lastname\"] + \"\"+ clientdata['Firstname'], \"is an indegene of\", clientdata[\"SO\"], \"state\", clientdata['country'],'He is', clientdata[age], 'years old, bon on', clientdata['DOB'])"
   ]
  },
  {
   "cell_type": "code",
   "execution_count": 13,
   "metadata": {},
   "outputs": [
    {
     "ename": "AttributeError",
     "evalue": "'dict' object has no attribute 'key'",
     "output_type": "error",
     "traceback": [
      "\u001b[1;31m---------------------------------------------------------------------------\u001b[0m",
      "\u001b[1;31mAttributeError\u001b[0m                            Traceback (most recent call last)",
      "Cell \u001b[1;32mIn[13], line 1\u001b[0m\n\u001b[1;32m----> 1\u001b[0m clientdata\u001b[38;5;241m.\u001b[39m key()\n",
      "\u001b[1;31mAttributeError\u001b[0m: 'dict' object has no attribute 'key'"
     ]
    }
   ],
   "source": [
    "clientdata. key()"
   ]
  }
 ],
 "metadata": {
  "kernelspec": {
   "display_name": "base",
   "language": "python",
   "name": "python3"
  },
  "language_info": {
   "codemirror_mode": {
    "name": "ipython",
    "version": 3
   },
   "file_extension": ".py",
   "mimetype": "text/x-python",
   "name": "python",
   "nbconvert_exporter": "python",
   "pygments_lexer": "ipython3",
   "version": "3.11.5"
  }
 },
 "nbformat": 4,
 "nbformat_minor": 2
}
